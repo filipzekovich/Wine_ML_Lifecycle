{
 "cells": [
  {
   "metadata": {},
   "cell_type": "markdown",
   "source": [
    "# 2. Data Preparation\n",
    "\n",
    "In this section, we prepare the Wine Quality dataset for machine learning.  \n",
    "The goal is to clean, transform, and encode the data so that it can be used to train predictive models effectively."
   ],
   "id": "f037a633d978fb1c"
  },
  {
   "metadata": {
    "ExecuteTime": {
     "end_time": "2025-10-27T21:33:05.125839Z",
     "start_time": "2025-10-27T21:33:05.107349Z"
    }
   },
   "cell_type": "code",
   "source": [
    "import numpy as np\n",
    "import pandas as pd\n",
    "import matplotlib.pyplot as plt\n",
    "import seaborn as sns\n",
    "from sklearn.model_selection import train_test_split\n",
    "from sklearn.preprocessing import StandardScaler, OneHotEncoder, FunctionTransformer\n",
    "from sklearn.compose import ColumnTransformer\n",
    "from sklearn.pipeline import Pipeline\n",
    "from sklearn.decomposition import PCA\n",
    "from sklearn.ensemble import RandomForestClassifier\n",
    "\n",
    "# plotting defaults\n",
    "%matplotlib inline\n",
    "plt.style.use('default')\n",
    "np.random.seed(42)\n",
    "sns.set(style=\"whitegrid\", palette=\"deep\", font_scale=1.1)\n",
    "\n",
    "red = pd.read_csv('winequality-red.csv', sep=';')\n",
    "white = pd.read_csv('winequality-white.csv', sep=';')\n",
    "\n",
    "red['color'] = 'red'\n",
    "white['color'] = 'white'\n",
    "\n",
    "df = pd.concat([red, white], ignore_index=True)\n",
    "num_features = df.select_dtypes(include=['float64', 'int64']).columns.drop('quality')"
   ],
   "id": "50dfe0fcf770687c",
   "outputs": [],
   "execution_count": 5
  },
  {
   "metadata": {},
   "cell_type": "markdown",
   "source": "### Handle Missing Values",
   "id": "c86b51b66b9a90b"
  },
  {
   "metadata": {
    "ExecuteTime": {
     "end_time": "2025-10-27T21:33:06.978945Z",
     "start_time": "2025-10-27T21:33:06.966745Z"
    }
   },
   "cell_type": "code",
   "source": [
    "print(\"\\n Handling missing values...\")\n",
    "print(\"Before:\", df.isnull().sum().sum(), \"missing values total\")\n",
    "\n",
    "df[num_features] = df[num_features].fillna(df[num_features].median())\n",
    "\n",
    "print(\"After:\", df.isnull().sum().sum(), \"missing values total\")"
   ],
   "id": "85e3477376a53dc2",
   "outputs": [
    {
     "name": "stdout",
     "output_type": "stream",
     "text": [
      "\n",
      " Handling missing values...\n",
      "Before: 0 missing values total\n",
      "After: 0 missing values total\n"
     ]
    }
   ],
   "execution_count": 6
  },
  {
   "metadata": {},
   "cell_type": "markdown",
   "source": "### Handle Outliers",
   "id": "2546bddc7cff26a5"
  },
  {
   "metadata": {
    "ExecuteTime": {
     "end_time": "2025-10-27T21:33:18.968393Z",
     "start_time": "2025-10-27T21:33:18.950037Z"
    }
   },
   "cell_type": "code",
   "source": [
    "for col in num_features:\n",
    "    lower, upper = df[col].quantile([0.01, 0.99])\n",
    "    df[col] = np.clip(df[col], lower, upper)\n",
    "\n",
    "print(\"\\n✅ Outliers capped at 1st and 99th percentiles.\")"
   ],
   "id": "4f04404be1893cdf",
   "outputs": [
    {
     "name": "stdout",
     "output_type": "stream",
     "text": [
      "\n",
      "✅ Outliers capped at 1st and 99th percentiles.\n"
     ]
    }
   ],
   "execution_count": 7
  },
  {
   "metadata": {},
   "cell_type": "markdown",
   "source": "### Feature Engineering",
   "id": "702210cfb4de3dd1"
  },
  {
   "metadata": {
    "ExecuteTime": {
     "end_time": "2025-10-27T21:33:21.172749Z",
     "start_time": "2025-10-27T21:33:21.166739Z"
    }
   },
   "cell_type": "code",
   "source": [
    "df[\"sulfur_ratio\"] = df[\"free sulfur dioxide\"] / (df[\"total sulfur dioxide\"] + 1e-6)\n",
    "df[\"sulfur_ratio\"] = df[\"sulfur_ratio\"].replace([np.inf, -np.inf], np.nan).fillna(df[\"sulfur_ratio\"].median())"
   ],
   "id": "6821df0e08c8d19f",
   "outputs": [],
   "execution_count": 8
  },
  {
   "metadata": {},
   "cell_type": "markdown",
   "source": "### Define Target Variable (classification: good vs not good)",
   "id": "70178720bcc43891"
  },
  {
   "metadata": {
    "ExecuteTime": {
     "end_time": "2025-10-27T21:33:23.144659Z",
     "start_time": "2025-10-27T21:33:23.138405Z"
    }
   },
   "cell_type": "code",
   "source": [
    "df[\"quality_label\"] = (df[\"quality\"] >= 7).astype(int)\n",
    "y = df[\"quality_label\"]\n",
    "X = df.drop(columns=[\"quality\", \"quality_label\"])\n"
   ],
   "id": "247a336bc48afc71",
   "outputs": [],
   "execution_count": 9
  },
  {
   "metadata": {},
   "cell_type": "markdown",
   "source": "### Train-Test Split",
   "id": "a57d0c9d2d66546b"
  },
  {
   "metadata": {
    "ExecuteTime": {
     "end_time": "2025-10-27T21:33:24.566303Z",
     "start_time": "2025-10-27T21:33:24.556305Z"
    }
   },
   "cell_type": "code",
   "source": [
    "X_train, X_test, y_train, y_test = train_test_split(\n",
    "    X, y, test_size=0.2, random_state=42, stratify=y\n",
    ")\n",
    "\n",
    "print(f\"\\nTraining size: {X_train.shape}, Test size: {X_test.shape}\")"
   ],
   "id": "50d41153d276bd4",
   "outputs": [
    {
     "name": "stdout",
     "output_type": "stream",
     "text": [
      "\n",
      "Training size: (5197, 13), Test size: (1300, 13)\n"
     ]
    }
   ],
   "execution_count": 10
  },
  {
   "metadata": {},
   "cell_type": "markdown",
   "source": "### Identify Column Types",
   "id": "f8fc110f13d151fe"
  },
  {
   "metadata": {
    "ExecuteTime": {
     "end_time": "2025-10-27T21:33:29.035575Z",
     "start_time": "2025-10-27T21:33:29.030724Z"
    }
   },
   "cell_type": "code",
   "source": [
    "num_features = X.select_dtypes(include=[\"float64\", \"int64\"]).columns.tolist()\n",
    "cat_features = [\"color\"]"
   ],
   "id": "cd757fe68405f435",
   "outputs": [],
   "execution_count": 11
  },
  {
   "metadata": {},
   "cell_type": "markdown",
   "source": "### Preprocessing Pipelines",
   "id": "b7bf8bca21ce7d93"
  },
  {
   "metadata": {
    "ExecuteTime": {
     "end_time": "2025-10-27T21:33:30.520900Z",
     "start_time": "2025-10-27T21:33:30.516959Z"
    }
   },
   "cell_type": "code",
   "source": [
    "log_transformer = FunctionTransformer(np.log1p, validate=False)\n",
    "\n",
    "numeric_pipeline = Pipeline(steps=[\n",
    "    (\"log\", log_transformer),\n",
    "    (\"scaler\", StandardScaler()),\n",
    "    (\"pca\", PCA(n_components=0.95))\n",
    "])\n",
    "\n",
    "categorical_pipeline = Pipeline(steps=[\n",
    "    (\"onehot\", OneHotEncoder(drop=\"first\"))\n",
    "])\n",
    "\n",
    "preprocessor = ColumnTransformer(\n",
    "    transformers=[\n",
    "        (\"num\", numeric_pipeline, num_features),\n",
    "        (\"cat\", categorical_pipeline, cat_features)\n",
    "    ]\n",
    ")"
   ],
   "id": "40114d437b81b7d7",
   "outputs": [],
   "execution_count": 12
  },
  {
   "metadata": {},
   "cell_type": "markdown",
   "source": "### Full Modeling Pipeline",
   "id": "173abfca3ace2048"
  },
  {
   "metadata": {
    "ExecuteTime": {
     "end_time": "2025-10-27T21:33:32.300500Z",
     "start_time": "2025-10-27T21:33:32.295501Z"
    }
   },
   "cell_type": "code",
   "source": [
    "model = RandomForestClassifier(\n",
    "    n_estimators=200,\n",
    "    random_state=42,\n",
    "    class_weight=\"balanced\",\n",
    "    max_depth=None\n",
    ")\n",
    "\n",
    "pipeline = Pipeline(steps=[\n",
    "    (\"preprocessor\", preprocessor),\n",
    "    (\"classifier\", model)\n",
    "])"
   ],
   "id": "64690170f37a2c47",
   "outputs": [],
   "execution_count": 13
  },
  {
   "metadata": {},
   "cell_type": "markdown",
   "source": "### Save Preprocessing Objects and Data Splits",
   "id": "483e82a7a5618f21"
  },
  {
   "metadata": {
    "ExecuteTime": {
     "end_time": "2025-10-27T21:33:33.732268Z",
     "start_time": "2025-10-27T21:33:33.713855Z"
    }
   },
   "cell_type": "code",
   "source": [
    "import joblib\n",
    "# Save the preprocessor and pipeline\n",
    "joblib.dump(preprocessor, \"preprocessor.pkl\")\n",
    "joblib.dump(pipeline, \"pipeline_base.pkl\")\n",
    "\n",
    "# Save train-test splits\n",
    "joblib.dump({\n",
    "    \"X_train\": X_train,\n",
    "    \"X_test\": X_test,\n",
    "    \"y_train\": y_train,\n",
    "    \"y_test\": y_test\n",
    "}, \"train_test_data.pkl\")\n",
    "\n",
    "print(\"Saved preprocessor, pipeline, and train/test splits.\")"
   ],
   "id": "d4326969216cb8df",
   "outputs": [
    {
     "name": "stdout",
     "output_type": "stream",
     "text": [
      "Saved preprocessor, pipeline, and train/test splits.\n"
     ]
    }
   ],
   "execution_count": 14
  }
 ],
 "metadata": {
  "kernelspec": {
   "display_name": "Python 3",
   "language": "python",
   "name": "python3"
  },
  "language_info": {
   "codemirror_mode": {
    "name": "ipython",
    "version": 2
   },
   "file_extension": ".py",
   "mimetype": "text/x-python",
   "name": "python",
   "nbconvert_exporter": "python",
   "pygments_lexer": "ipython2",
   "version": "2.7.6"
  }
 },
 "nbformat": 4,
 "nbformat_minor": 5
}
