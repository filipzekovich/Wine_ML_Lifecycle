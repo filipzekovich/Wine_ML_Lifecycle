{
 "cells": [
  {
   "metadata": {},
   "cell_type": "markdown",
   "source": [
    "# 2. Data Preparation\n",
    "\n",
    "In this section, we prepare the Wine Quality dataset for machine learning.  \n",
    "The goal is to clean, transform, and encode the data so that it can be used to train predictive models effectively."
   ],
   "id": "f037a633d978fb1c"
  },
  {
   "metadata": {},
   "cell_type": "markdown",
   "source": "### Handle Missing Values",
   "id": "c86b51b66b9a90b"
  },
  {
   "metadata": {
    "ExecuteTime": {
     "end_time": "2025-10-27T21:22:02.930861Z",
     "start_time": "2025-10-27T21:22:01.818438Z"
    }
   },
   "cell_type": "code",
   "source": [
    "print(\"\\n Handling missing values...\")\n",
    "print(\"Before:\", df.isnull().sum().sum(), \"missing values total\")\n",
    "\n",
    "df[num_features] = df[num_features].fillna(df[num_features].median())\n",
    "\n",
    "print(\"After:\", df.isnull().sum().sum(), \"missing values total\")"
   ],
   "id": "85e3477376a53dc2",
   "outputs": [
    {
     "name": "stdout",
     "output_type": "stream",
     "text": [
      "\n",
      " Handling missing values...\n"
     ]
    },
    {
     "ename": "NameError",
     "evalue": "name 'df' is not defined",
     "output_type": "error",
     "traceback": [
      "\u001B[1;31m---------------------------------------------------------------------------\u001B[0m",
      "\u001B[1;31mNameError\u001B[0m                                 Traceback (most recent call last)",
      "Cell \u001B[1;32mIn[1], line 2\u001B[0m\n\u001B[0;32m      1\u001B[0m \u001B[38;5;28mprint\u001B[39m(\u001B[38;5;124m\"\u001B[39m\u001B[38;5;130;01m\\n\u001B[39;00m\u001B[38;5;124m Handling missing values...\u001B[39m\u001B[38;5;124m\"\u001B[39m)\n\u001B[1;32m----> 2\u001B[0m \u001B[38;5;28mprint\u001B[39m(\u001B[38;5;124m\"\u001B[39m\u001B[38;5;124mBefore:\u001B[39m\u001B[38;5;124m\"\u001B[39m, \u001B[43mdf\u001B[49m\u001B[38;5;241m.\u001B[39misnull()\u001B[38;5;241m.\u001B[39msum()\u001B[38;5;241m.\u001B[39msum(), \u001B[38;5;124m\"\u001B[39m\u001B[38;5;124mmissing values total\u001B[39m\u001B[38;5;124m\"\u001B[39m)\n\u001B[0;32m      4\u001B[0m df[num_features] \u001B[38;5;241m=\u001B[39m df[num_features]\u001B[38;5;241m.\u001B[39mfillna(df[num_features]\u001B[38;5;241m.\u001B[39mmedian())\n\u001B[0;32m      6\u001B[0m \u001B[38;5;28mprint\u001B[39m(\u001B[38;5;124m\"\u001B[39m\u001B[38;5;124mAfter:\u001B[39m\u001B[38;5;124m\"\u001B[39m, df\u001B[38;5;241m.\u001B[39misnull()\u001B[38;5;241m.\u001B[39msum()\u001B[38;5;241m.\u001B[39msum(), \u001B[38;5;124m\"\u001B[39m\u001B[38;5;124mmissing values total\u001B[39m\u001B[38;5;124m\"\u001B[39m)\n",
      "\u001B[1;31mNameError\u001B[0m: name 'df' is not defined"
     ]
    }
   ],
   "execution_count": 1
  },
  {
   "metadata": {},
   "cell_type": "markdown",
   "source": "### Handle Outliers",
   "id": "2546bddc7cff26a5"
  },
  {
   "metadata": {
    "ExecuteTime": {
     "end_time": "2025-10-27T21:22:03.055491600Z",
     "start_time": "2025-10-24T13:52:13.409852Z"
    }
   },
   "cell_type": "code",
   "source": [
    "for col in num_features:\n",
    "    lower, upper = df[col].quantile([0.01, 0.99])\n",
    "    df[col] = np.clip(df[col], lower, upper)\n",
    "\n",
    "print(\"\\n✅ Outliers capped at 1st and 99th percentiles.\")"
   ],
   "id": "4f04404be1893cdf",
   "outputs": [
    {
     "name": "stdout",
     "output_type": "stream",
     "text": [
      "\n",
      "✅ Outliers capped at 1st and 99th percentiles.\n"
     ]
    }
   ],
   "execution_count": 20
  },
  {
   "metadata": {},
   "cell_type": "markdown",
   "source": "### Feature Engineering",
   "id": "702210cfb4de3dd1"
  },
  {
   "metadata": {
    "ExecuteTime": {
     "end_time": "2025-10-27T21:22:03.056511600Z",
     "start_time": "2025-10-24T13:52:15.136686Z"
    }
   },
   "cell_type": "code",
   "source": [
    "df[\"sulfur_ratio\"] = df[\"free sulfur dioxide\"] / (df[\"total sulfur dioxide\"] + 1e-6)\n",
    "df[\"sulfur_ratio\"] = df[\"sulfur_ratio\"].replace([np.inf, -np.inf], np.nan).fillna(df[\"sulfur_ratio\"].median())"
   ],
   "id": "6821df0e08c8d19f",
   "outputs": [],
   "execution_count": 21
  },
  {
   "metadata": {},
   "cell_type": "markdown",
   "source": "### Define Target Variable (classification: good vs not good)",
   "id": "70178720bcc43891"
  },
  {
   "metadata": {
    "ExecuteTime": {
     "end_time": "2025-10-27T21:22:03.057493100Z",
     "start_time": "2025-10-24T13:52:16.453405Z"
    }
   },
   "cell_type": "code",
   "source": [
    "df[\"quality_label\"] = (df[\"quality\"] >= 7).astype(int)\n",
    "y = df[\"quality_label\"]\n",
    "X = df.drop(columns=[\"quality\", \"quality_label\"])\n"
   ],
   "id": "247a336bc48afc71",
   "outputs": [],
   "execution_count": 22
  },
  {
   "metadata": {},
   "cell_type": "markdown",
   "source": "### Train-Test Split",
   "id": "a57d0c9d2d66546b"
  },
  {
   "metadata": {
    "ExecuteTime": {
     "end_time": "2025-10-27T21:22:03.058492900Z",
     "start_time": "2025-10-24T13:52:18.059506Z"
    }
   },
   "cell_type": "code",
   "source": [
    "X_train, X_test, y_train, y_test = train_test_split(\n",
    "    X, y, test_size=0.2, random_state=42, stratify=y\n",
    ")\n",
    "\n",
    "print(f\"\\nTraining size: {X_train.shape}, Test size: {X_test.shape}\")"
   ],
   "id": "50d41153d276bd4",
   "outputs": [
    {
     "name": "stdout",
     "output_type": "stream",
     "text": [
      "\n",
      "Training size: (5197, 13), Test size: (1300, 13)\n"
     ]
    }
   ],
   "execution_count": 23
  },
  {
   "metadata": {},
   "cell_type": "markdown",
   "source": "### Identify Column Types",
   "id": "f8fc110f13d151fe"
  },
  {
   "metadata": {
    "ExecuteTime": {
     "end_time": "2025-10-27T21:22:03.060489600Z",
     "start_time": "2025-10-24T13:52:22.112266Z"
    }
   },
   "cell_type": "code",
   "source": [
    "num_features = X.select_dtypes(include=[\"float64\", \"int64\"]).columns.tolist()\n",
    "cat_features = [\"color\"]"
   ],
   "id": "cd757fe68405f435",
   "outputs": [],
   "execution_count": 24
  },
  {
   "metadata": {},
   "cell_type": "markdown",
   "source": "### Preprocessing Pipelines",
   "id": "b7bf8bca21ce7d93"
  },
  {
   "metadata": {
    "ExecuteTime": {
     "end_time": "2025-10-27T21:22:03.060489600Z",
     "start_time": "2025-10-24T14:14:19.609612Z"
    }
   },
   "cell_type": "code",
   "source": [
    "log_transformer = FunctionTransformer(np.log1p, validate=False)\n",
    "\n",
    "numeric_pipeline = Pipeline(steps=[\n",
    "    (\"log\", log_transformer),\n",
    "    (\"scaler\", StandardScaler()),\n",
    "    (\"pca\", PCA(n_components=0.95))\n",
    "])\n",
    "\n",
    "categorical_pipeline = Pipeline(steps=[\n",
    "    (\"onehot\", OneHotEncoder(drop=\"first\"))\n",
    "])\n",
    "\n",
    "preprocessor = ColumnTransformer(\n",
    "    transformers=[\n",
    "        (\"num\", numeric_pipeline, num_features),\n",
    "        (\"cat\", categorical_pipeline, cat_features)\n",
    "    ]\n",
    ")"
   ],
   "id": "40114d437b81b7d7",
   "outputs": [],
   "execution_count": 29
  },
  {
   "metadata": {},
   "cell_type": "markdown",
   "source": "### Full Modeling Pipeline",
   "id": "173abfca3ace2048"
  },
  {
   "metadata": {
    "ExecuteTime": {
     "end_time": "2025-10-27T21:22:03.088513100Z",
     "start_time": "2025-10-24T14:14:22.387959Z"
    }
   },
   "cell_type": "code",
   "source": [
    "model = RandomForestClassifier(\n",
    "    n_estimators=200,\n",
    "    random_state=42,\n",
    "    class_weight=\"balanced\",\n",
    "    max_depth=None\n",
    ")\n",
    "\n",
    "pipeline = Pipeline(steps=[\n",
    "    (\"preprocessor\", preprocessor),\n",
    "    (\"classifier\", model)\n",
    "])"
   ],
   "id": "64690170f37a2c47",
   "outputs": [],
   "execution_count": 30
  },
  {
   "metadata": {},
   "cell_type": "markdown",
   "source": "### Save Preprocessing Objects and Data Splits",
   "id": "483e82a7a5618f21"
  },
  {
   "metadata": {
    "ExecuteTime": {
     "end_time": "2025-10-27T21:22:03.088513100Z",
     "start_time": "2025-10-24T14:22:06.821413Z"
    }
   },
   "cell_type": "code",
   "source": [
    "import joblib\n",
    "# Save the preprocessor and pipeline\n",
    "joblib.dump(preprocessor, \"preprocessor.pkl\")\n",
    "joblib.dump(pipeline, \"pipeline_base.pkl\")\n",
    "\n",
    "# Save train-test splits\n",
    "joblib.dump({\n",
    "    \"X_train\": X_train,\n",
    "    \"X_test\": X_test,\n",
    "    \"y_train\": y_train,\n",
    "    \"y_test\": y_test\n",
    "}, \"train_test_data.pkl\")\n",
    "\n",
    "print(\"Saved preprocessor, pipeline, and train/test splits.\")"
   ],
   "id": "d4326969216cb8df",
   "outputs": [
    {
     "name": "stdout",
     "output_type": "stream",
     "text": [
      "Saved preprocessor, pipeline, and train/test splits.\n"
     ]
    }
   ],
   "execution_count": 32
  }
 ],
 "metadata": {
  "kernelspec": {
   "display_name": "Python 3",
   "language": "python",
   "name": "python3"
  },
  "language_info": {
   "codemirror_mode": {
    "name": "ipython",
    "version": 2
   },
   "file_extension": ".py",
   "mimetype": "text/x-python",
   "name": "python",
   "nbconvert_exporter": "python",
   "pygments_lexer": "ipython2",
   "version": "2.7.6"
  }
 },
 "nbformat": 4,
 "nbformat_minor": 5
}
