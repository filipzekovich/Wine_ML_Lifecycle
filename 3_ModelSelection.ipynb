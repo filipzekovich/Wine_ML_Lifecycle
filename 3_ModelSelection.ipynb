{
 "cells": [
  {
   "metadata": {},
   "cell_type": "markdown",
   "source": [
    "## 3. Model Selection and Justification\n",
    "In this section, we experiment with multiple machine learning algorithms\n",
    "to predict wine quality (good vs not good). We will use cross-validation\n",
    "and hyperparameter tuning to compare model performance.\n",
    "### Imports"
   ],
   "id": "155c0ddafbf9ee88"
  },
  {
   "cell_type": "code",
   "id": "initial_id",
   "metadata": {
    "collapsed": true,
    "ExecuteTime": {
     "end_time": "2025-10-24T19:03:10.719771Z",
     "start_time": "2025-10-24T19:03:10.320384Z"
    }
   },
   "source": [
    "import numpy as np\n",
    "import pandas as pd\n",
    "import matplotlib.pyplot as plt\n",
    "import seaborn as sns\n",
    "import joblib\n",
    "\n",
    "from sklearn.pipeline import Pipeline\n",
    "from sklearn.model_selection import StratifiedKFold, cross_val_score, GridSearchCV\n",
    "from sklearn.linear_model import LogisticRegression\n",
    "from sklearn.ensemble import RandomForestClassifier, GradientBoostingClassifier\n",
    "from sklearn.svm import SVC\n",
    "from sklearn.metrics import classification_report, confusion_matrix, f1_score, precision_recall_fscore_support, \\\n",
    "    roc_auc_score\n",
    "from sklearn.model_selection import RandomizedSearchCV\n",
    "\n",
    "%matplotlib inline\n",
    "sns.set(style='whitegrid', font_scale=1.1)\n"
   ],
   "outputs": [],
   "execution_count": 2
  },
  {
   "metadata": {},
   "cell_type": "markdown",
   "source": "### Load preprocessor and train/test split from previous notebook",
   "id": "43fa80092573e49c"
  },
  {
   "metadata": {
    "ExecuteTime": {
     "end_time": "2025-10-24T19:03:13.625462Z",
     "start_time": "2025-10-24T19:03:13.587251Z"
    }
   },
   "cell_type": "code",
   "source": [
    "print('Loading saved artifacts...')\n",
    "art = joblib.load('train_test_data.pkl')\n",
    "X_train, X_test = art['X_train'], art['X_test']\n",
    "y_train, y_test = art['y_train'], art['y_test']\n",
    "\n",
    "preprocessor = joblib.load('preprocessor.pkl')\n",
    "\n",
    "print(f'Loaded: X_train={X_train.shape}, X_test={X_test.shape}, y_train={y_train.shape}, y_test={y_test.shape}')"
   ],
   "id": "bb633e5d0ee88d68",
   "outputs": [
    {
     "name": "stdout",
     "output_type": "stream",
     "text": [
      "Loading saved artifacts...\n",
      "Loaded: X_train=(5197, 13), X_test=(1300, 13), y_train=(5197,), y_test=(1300,)\n"
     ]
    }
   ],
   "execution_count": 3
  },
  {
   "metadata": {},
   "cell_type": "markdown",
   "source": "This matches the data we had in Step 2 after preprocessing and splitting, so the import is correct.",
   "id": "59bfdf776e6cf19b"
  },
  {
   "metadata": {},
   "cell_type": "markdown",
   "source": "### Class balance check (important to choose metrics and sampling strategies)",
   "id": "44c7fd1dc03c184a"
  },
  {
   "metadata": {
    "ExecuteTime": {
     "end_time": "2025-10-24T19:03:15.721827Z",
     "start_time": "2025-10-24T19:03:15.699067Z"
    }
   },
   "cell_type": "code",
   "source": [
    "print('\\nClass distribution (train):')\n",
    "print(y_train.value_counts(normalize=True))"
   ],
   "id": "92dbd145077be3ac",
   "outputs": [
    {
     "name": "stdout",
     "output_type": "stream",
     "text": [
      "\n",
      "Class distribution (train):\n",
      "quality_label\n",
      "0    0.803541\n",
      "1    0.196459\n",
      "Name: proportion, dtype: float64\n"
     ]
    }
   ],
   "execution_count": 4
  },
  {
   "metadata": {},
   "cell_type": "markdown",
   "source": [
    "\"Not good\" wines (quality < 7) ~80%, \"Good\" wines (quality >= 7) ~20%. This means our dataset is imbalanced, about 4:1 ratio.\n",
    "This imbalance affects our choice of evaluation metrics.\n",
    "Accuracy would be misleading (a model predicting all wines as “not good” would still get 80% accuracy).\n",
    "\n",
    "Instead, we will focus on F1 score, as well as ROC-AUC.\n",
    "This size of imbalance usually does not require resampling, so we will use class_weight='balanced' in our models to adjust for it.\n"
   ],
   "id": "151b7916779fd4e"
  },
  {
   "metadata": {},
   "cell_type": "markdown",
   "source": "### Define Models",
   "id": "6715f92e439d968"
  },
  {
   "metadata": {},
   "cell_type": "markdown",
   "source": [
    "Our target variable is wine quality, originally on an integer scale of 0-10. We chose to convert this into a binary classification problem of \"good\" (quality >= 7) vs \"not good\" (quality < 7).\n",
    "This means our primary task is binary classification. We chose the following models to compare:\n",
    "\n",
    "Logistic Regression (Baseline):\n",
    "Chosen as a simple, interpretable baseline for binary classification. Reference point for more complex models.\n",
    "\n",
    "Random Forest Classifier:\n",
    "Tree-based ensemble model that captures nonlinear relationships and feature interactions.\n",
    "\n",
    "Gradient Boosting Classifier:\n",
    "Can achieve higher predictive accuracy than single trees or Random Forest.\n",
    "Can reveal subtle nonlinear patterns between features and target.\n",
    "We can compare this to Random Forest to compare bagging vs boosting performance.\n",
    "\n",
    "Support Vector Classifier (SVC, RBF kernel):\n",
    "Captures complex, nonlinear decision boundaries.\n",
    "Provides a non-tree comparison to ensemble methods.\n",
    "Useful for testing whether the separation between classes is linear or nonlinear."
   ],
   "id": "f2ee644c70a653d6"
  },
  {
   "metadata": {
    "ExecuteTime": {
     "end_time": "2025-10-24T19:03:19.280847Z",
     "start_time": "2025-10-24T19:03:19.268791Z"
    }
   },
   "cell_type": "code",
   "source": [
    "models = {\n",
    "    'LogisticRegression': LogisticRegression(max_iter=2000, class_weight='balanced', solver='liblinear'),\n",
    "    'RandomForest': RandomForestClassifier(random_state=42, class_weight='balanced', n_jobs=-1),\n",
    "    'GradientBoosting': GradientBoostingClassifier(random_state=42),\n",
    "    'SVC': SVC(kernel='rbf', class_weight='balanced', probability=True)\n",
    "}"
   ],
   "id": "91506da7bb6bd7b4",
   "outputs": [],
   "execution_count": 5
  },
  {
   "metadata": {},
   "cell_type": "markdown",
   "source": [
    "Note:\n",
    "GradientBoosting does not support class_weight. Given the moderate imbalance (80/20) and the use of F1 and ROC-AUC metrics, class weighting is not required. The model still performs comparably to the others."
   ],
   "id": "7e1e9168932a9e6"
  },
  {
   "metadata": {},
   "cell_type": "markdown",
   "source": "### Cross-Validation",
   "id": "3b36b873f5d55c69"
  },
  {
   "metadata": {
    "ExecuteTime": {
     "end_time": "2025-10-24T19:03:37.426632Z",
     "start_time": "2025-10-24T19:03:21.093466Z"
    }
   },
   "cell_type": "code",
   "source": [
    "# Stratified K-Fold keeps class ratios across folds\n",
    "cv = StratifiedKFold(n_splits=5, shuffle=True, random_state=42)\n",
    "\n",
    "# Dictionaries to store CV results\n",
    "cv_f1_results = {}\n",
    "cv_auc_results = {}\n",
    "\n",
    "for name, model in models.items():\n",
    "    pipe = Pipeline(steps=[\n",
    "        (\"preprocessor\", preprocessor),\n",
    "        (\"classifier\", model)\n",
    "    ])\n",
    "\n",
    "    # F1 scores\n",
    "    f1_scores = cross_val_score(pipe, X_train, y_train, cv=cv, scoring='f1', n_jobs=-1)\n",
    "    cv_f1_results[name] = f1_scores\n",
    "\n",
    "    # ROC-AUC scores\n",
    "    auc_scores = cross_val_score(pipe, X_train, y_train, cv=cv, scoring='roc_auc', n_jobs=-1)\n",
    "    cv_auc_results[name] = auc_scores\n",
    "\n",
    "    print(\n",
    "        f\"{name}: F1 = {f1_scores.mean():.3f} ± {f1_scores.std():.3f} | ROC-AUC = {auc_scores.mean():.3f} ± {auc_scores.std():.3f}\")\n",
    "\n",
    "# Convert to DataFrame for plotting\n",
    "f1_df = pd.DataFrame(cv_f1_results)\n",
    "sns.boxplot(data=f1_df)\n",
    "plt.title(\"Cross-Validation F1 Scores (5-Fold)\")\n",
    "plt.ylabel(\"F1 Score\")\n",
    "plt.show()\n",
    "\n",
    "auc_df = pd.DataFrame(cv_auc_results)\n",
    "sns.boxplot(data=auc_df)\n",
    "plt.title(\"Cross-Validation ROC-AUC Scores (5-Fold)\")\n",
    "plt.ylabel(\"ROC-AUC Score\")\n",
    "plt.show()"
   ],
   "id": "9665b8806a2a8ae6",
   "outputs": [
    {
     "name": "stdout",
     "output_type": "stream",
     "text": [
      "LogisticRegression: F1 = 0.525 ± 0.025 | ROC-AUC = 0.802 ± 0.023\n",
      "RandomForest: F1 = 0.603 ± 0.025 | ROC-AUC = 0.900 ± 0.013\n",
      "GradientBoosting: F1 = 0.463 ± 0.037 | ROC-AUC = 0.856 ± 0.017\n",
      "SVC: F1 = 0.567 ± 0.015 | ROC-AUC = 0.851 ± 0.013\n"
     ]
    },
    {
     "data": {
      "text/plain": [
       "<Figure size 640x480 with 1 Axes>"
      ],
      "image/png": "[encoded data removed]"
     },
     "metadata": {},
     "output_type": "display_data"
    },
    {
     "data": {
      "text/plain": [
       "<Figure size 640x480 with 1 Axes>"
      ],
      "image/png": "[encoded data removed]"
     },
     "metadata": {},
     "output_type": "display_data"
    }
   ],
   "execution_count": 6
  },
  {
   "metadata": {},
   "cell_type": "markdown",
   "source": [
    "Random Forest is the best starting point for hyperparameter tuning (Best performer on both F1 and ROC-AUC).\n",
    "\n",
    "Gradient Boosting (Low F1, Decent ROC-AUC): Might improve with learning rate, n_estimators, and max_depth adjustments.\n",
    "\n",
    "SVC (Good, slightly worse than Random Forest): can improve with C and gamma tuning.\n",
    "\n",
    "Logistic Regression serves as a baseline. Interpretable, but middling performance."
   ],
   "id": "b72aca4f2b16a184"
  },
  {
   "metadata": {},
   "cell_type": "markdown",
   "source": "### Hyperparameter Tuning",
   "id": "a0b5e1fc54cfa020"
  },
  {
   "metadata": {},
   "cell_type": "markdown",
   "source": [
    "### Since our dataset isn’t huge (~6.5k rows), we use RandomizedSearchCV (faster than GridSearchCV) with stratified CV:\n",
    "Random Forest:"
   ],
   "id": "31cc95ff794bb5ae"
  },
  {
   "metadata": {
    "ExecuteTime": {
     "end_time": "2025-10-24T19:04:40.721447Z",
     "start_time": "2025-10-24T19:03:49.860031Z"
    }
   },
   "cell_type": "code",
   "source": [
    "# Random Forest\n",
    "rf = RandomForestClassifier(random_state=42, class_weight='balanced', n_jobs=-1)\n",
    "\n",
    "rf_params = {\n",
    "    'classifier__n_estimators': [100, 200, 500],\n",
    "    'classifier__max_depth': [None, 5, 10, 20],\n",
    "    'classifier__min_samples_split': [2, 5, 10],\n",
    "    'classifier__min_samples_leaf': [1, 2, 4],\n",
    "    'classifier__max_features': ['sqrt', 'log2', None]\n",
    "}\n",
    "\n",
    "rf_pipe = Pipeline(steps=[\n",
    "    (\"preprocessor\", preprocessor),\n",
    "    (\"classifier\", rf)\n",
    "])\n",
    "\n",
    "scoring = {\n",
    "    'f1': 'f1',\n",
    "    'roc_auc': 'roc_auc'\n",
    "}\n",
    "\n",
    "rf_search = RandomizedSearchCV(\n",
    "    rf_pipe,\n",
    "    param_distributions=rf_params,\n",
    "    n_iter=20,\n",
    "    cv=cv,\n",
    "    scoring=scoring,\n",
    "    refit='f1',\n",
    "    n_jobs=-1,\n",
    "    verbose=2,\n",
    "    random_state=42\n",
    ")\n",
    "\n",
    "rf_search.fit(X_train, y_train)\n",
    "\n",
    "print(\"Random Forest Best F1 (CV):\", rf_search.best_score_)\n",
    "print(\"Best ROC-AUC (mean):\", rf_search.cv_results_['mean_test_roc_auc'][rf_search.best_index_])\n",
    "print(\"Random Forest Best Params:\", rf_search.best_params_)\n"
   ],
   "id": "797b21d817d61121",
   "outputs": [
    {
     "name": "stdout",
     "output_type": "stream",
     "text": [
      "Fitting 5 folds for each of 20 candidates, totalling 100 fits\n",
      "Random Forest Best F1 (CV): 0.6478235513602003\n",
      "Best ROC-AUC (mean): 0.893989270331811\n",
      "Random Forest Best Params: {'classifier__n_estimators': 500, 'classifier__min_samples_split': 5, 'classifier__min_samples_leaf': 4, 'classifier__max_features': 'sqrt', 'classifier__max_depth': 20}\n"
     ]
    }
   ],
   "execution_count": 7
  },
  {
   "metadata": {},
   "cell_type": "markdown",
   "source": "Gradient Boosting:",
   "id": "8c3ac502fbec6b9d"
  },
  {
   "metadata": {
    "ExecuteTime": {
     "end_time": "2025-10-24T19:06:55.044224Z",
     "start_time": "2025-10-24T19:05:45.538169Z"
    }
   },
   "cell_type": "code",
   "source": [
    "# Gradient Boosting\n",
    "gb = GradientBoostingClassifier(random_state=42)\n",
    "\n",
    "gb_params = {\n",
    "    'classifier__n_estimators': [100, 200, 300],\n",
    "    'classifier__learning_rate': [0.01, 0.05, 0.1, 0.2],\n",
    "    'classifier__max_depth': [3, 5, 7],\n",
    "    'classifier__min_samples_split': [2, 5, 10],\n",
    "    'classifier__min_samples_leaf': [1, 2, 4]\n",
    "}\n",
    "\n",
    "gb_pipe = Pipeline(steps=[\n",
    "    (\"preprocessor\", preprocessor),\n",
    "    (\"classifier\", gb)\n",
    "])\n",
    "\n",
    "scoring = {\n",
    "    'f1': 'f1',\n",
    "    'roc_auc': 'roc_auc'\n",
    "}\n",
    "\n",
    "gb_search = RandomizedSearchCV(\n",
    "    gb_pipe,\n",
    "    param_distributions=gb_params,\n",
    "    n_iter=20,\n",
    "    cv=cv,\n",
    "    scoring=scoring,\n",
    "    refit='f1',\n",
    "    n_jobs=-1,\n",
    "    verbose=2,\n",
    "    random_state=42\n",
    ")\n",
    "\n",
    "gb_search.fit(X_train, y_train)\n",
    "\n",
    "print(\"Gradient Boosting Best F1 (CV):\", gb_search.best_score_)\n",
    "print(\"Best ROC-AUC (mean):\", rf_search.cv_results_['mean_test_roc_auc'][rf_search.best_index_])\n",
    "print(\"Gradient Boosting Best Params:\", gb_search.best_params_)\n"
   ],
   "id": "c0554e89f1890f79",
   "outputs": [
    {
     "name": "stdout",
     "output_type": "stream",
     "text": [
      "Fitting 5 folds for each of 20 candidates, totalling 100 fits\n",
      "Gradient Boosting Best F1 (CV): 0.6101695643302427\n",
      "Best ROC-AUC (mean): 0.893989270331811\n",
      "Gradient Boosting Best Params: {'classifier__n_estimators': 200, 'classifier__min_samples_split': 2, 'classifier__min_samples_leaf': 2, 'classifier__max_depth': 7, 'classifier__learning_rate': 0.1}\n"
     ]
    }
   ],
   "execution_count": 8
  },
  {
   "metadata": {},
   "cell_type": "markdown",
   "source": "SVC Tuning:",
   "id": "c99cae4eb4953343"
  },
  {
   "metadata": {
    "ExecuteTime": {
     "end_time": "2025-10-24T19:09:19.108327Z",
     "start_time": "2025-10-24T19:08:25.613153Z"
    }
   },
   "cell_type": "code",
   "source": [
    "# SVC\n",
    "svc = SVC(kernel='rbf', class_weight='balanced', probability=True)\n",
    "\n",
    "svc_params = {\n",
    "    'classifier__C': [0.1, 1, 10, 100],\n",
    "    'classifier__gamma': ['scale', 'auto', 0.01, 0.1, 1]\n",
    "}\n",
    "\n",
    "svc_pipe = Pipeline(steps=[\n",
    "    (\"preprocessor\", preprocessor),\n",
    "    (\"classifier\", svc)\n",
    "])\n",
    "\n",
    "scoring = {\n",
    "    'f1': 'f1',\n",
    "    'roc_auc': 'roc_auc'\n",
    "}\n",
    "\n",
    "svc_search = RandomizedSearchCV(\n",
    "    svc_pipe,\n",
    "    param_distributions=svc_params,\n",
    "    n_iter=15,\n",
    "    cv=cv,\n",
    "    scoring=scoring,\n",
    "    refit='f1',\n",
    "    n_jobs=-1,\n",
    "    verbose=2,\n",
    "    random_state=42\n",
    ")\n",
    "\n",
    "svc_search.fit(X_train, y_train)\n",
    "\n",
    "print(\"SVC Best F1 (CV):\", svc_search.best_score_)\n",
    "print(\"Best ROC-AUC (mean):\", svc_search.cv_results_['mean_test_roc_auc'][svc_search.best_index_])\n",
    "print(\"SVC Best Params:\", svc_search.best_params_)\n"
   ],
   "id": "d33aacfef9b56c1f",
   "outputs": [
    {
     "name": "stdout",
     "output_type": "stream",
     "text": [
      "Fitting 5 folds for each of 15 candidates, totalling 75 fits\n",
      "SVC Best F1 (CV): 0.6041214473619408\n",
      "Best ROC-AUC (mean): 0.8690678653059564\n",
      "SVC Best Params: {'classifier__gamma': 1, 'classifier__C': 1}\n"
     ]
    }
   ],
   "execution_count": 10
  },
  {
   "metadata": {},
   "cell_type": "markdown",
   "source": "### Model Comparison to un-tuned models",
   "id": "4ae91102e2213634"
  },
  {
   "metadata": {
    "ExecuteTime": {
     "end_time": "2025-10-24T19:20:56.776345Z",
     "start_time": "2025-10-24T19:20:56.584710Z"
    }
   },
   "cell_type": "code",
   "source": [
    "# Un-tuned CV results from earlier model comparison\n",
    "untuned_results = {\n",
    "    'Logistic Regression': {'F1 (Untuned)': 0.525, 'ROC-AUC (Untuned)': 0.802},\n",
    "    'Random Forest': {'F1 (Untuned)': 0.603, 'ROC-AUC (Untuned)': 0.900},\n",
    "    'Gradient Boosting': {'F1 (Untuned)': 0.463, 'ROC-AUC (Untuned)': 0.856},\n",
    "    'SVC': {'F1 (Untuned)': 0.567, 'ROC-AUC (Untuned)': 0.851}\n",
    "}\n",
    "\n",
    "# Tuned model searches\n",
    "searches = {\n",
    "    'Random Forest': rf_search,\n",
    "    'Gradient Boosting': gb_search,\n",
    "    'SVC': svc_search\n",
    "}\n",
    "\n",
    "summary_rows = []\n",
    "\n",
    "for name, search in searches.items():\n",
    "    f1_cv = search.best_score_\n",
    "    roc_cv = search.cv_results_['mean_test_roc_auc'][search.best_index_]\n",
    "\n",
    "    summary_rows.append({\n",
    "        'Model': name,\n",
    "        'F1 (Untuned)': untuned_results[name]['F1 (Untuned)'],\n",
    "        'ROC-AUC (Untuned)': untuned_results[name]['ROC-AUC (Untuned)'],\n",
    "        'F1 (Tuned)': f1_cv,\n",
    "        'ROC-AUC (Tuned)': roc_cv\n",
    "    })\n",
    "\n",
    "# Display results\n",
    "results_all = pd.DataFrame(summary_rows).sort_values(by='F1 (Tuned)', ascending=False)\n",
    "display(results_all)\n",
    "\n",
    "# Plot comparison\n",
    "results_melted = results_all.melt(id_vars='Model', var_name='Metric', value_name='Score')\n",
    "\n",
    "plt.figure(figsize=(8,5))\n",
    "sns.barplot(data=results_melted, x='Model', y='Score', hue='Metric')\n",
    "plt.title('Untuned vs Tuned Model Performance (Cross-Validation)')\n",
    "plt.ylim(0.4, 1)\n",
    "plt.show()\n"
   ],
   "id": "a719ae28249e9d55",
   "outputs": [
    {
     "data": {
      "text/plain": [
       "               Model  F1 (Untuned)  ROC-AUC (Untuned)  F1 (Tuned)  \\\n",
       "0      Random Forest         0.603              0.900    0.647824   \n",
       "1  Gradient Boosting         0.463              0.856    0.610170   \n",
       "2                SVC         0.567              0.851    0.604121   \n",
       "\n",
       "   ROC-AUC (Tuned)  \n",
       "0         0.893989  \n",
       "1         0.890067  \n",
       "2         0.869068  "
      ],
      "text/html": [
       "<div>\n",
       "<style scoped>\n",
       "    .dataframe tbody tr th:only-of-type {\n",
       "        vertical-align: middle;\n",
       "    }\n",
       "\n",
       "    .dataframe tbody tr th {\n",
       "        vertical-align: top;\n",
       "    }\n",
       "\n",
       "    .dataframe thead th {\n",
       "        text-align: right;\n",
       "    }\n",
       "</style>\n",
       "<table border=\"1\" class=\"dataframe\">\n",
       "  <thead>\n",
       "    <tr style=\"text-align: right;\">\n",
       "      <th></th>\n",
       "      <th>Model</th>\n",
       "      <th>F1 (Untuned)</th>\n",
       "      <th>ROC-AUC (Untuned)</th>\n",
       "      <th>F1 (Tuned)</th>\n",
       "      <th>ROC-AUC (Tuned)</th>\n",
       "    </tr>\n",
       "  </thead>\n",
       "  <tbody>\n",
       "    <tr>\n",
       "      <th>0</th>\n",
       "      <td>Random Forest</td>\n",
       "      <td>0.603</td>\n",
       "      <td>0.900</td>\n",
       "      <td>0.647824</td>\n",
       "      <td>0.893989</td>\n",
       "    </tr>\n",
       "    <tr>\n",
       "      <th>1</th>\n",
       "      <td>Gradient Boosting</td>\n",
       "      <td>0.463</td>\n",
       "      <td>0.856</td>\n",
       "      <td>0.610170</td>\n",
       "      <td>0.890067</td>\n",
       "    </tr>\n",
       "    <tr>\n",
       "      <th>2</th>\n",
       "      <td>SVC</td>\n",
       "      <td>0.567</td>\n",
       "      <td>0.851</td>\n",
       "      <td>0.604121</td>\n",
       "      <td>0.869068</td>\n",
       "    </tr>\n",
       "  </tbody>\n",
       "</table>\n",
       "</div>"
      ]
     },
     "metadata": {},
     "output_type": "display_data"
    },
    {
     "data": {
      "text/plain": [
       "<Figure size 800x500 with 1 Axes>"
      ],
      "image/png": "[encoded data removed]"
     },
     "metadata": {},
     "output_type": "display_data"
    }
   ],
   "execution_count": 13
  },
  {
   "metadata": {},
   "cell_type": "markdown",
   "source": [
    "### Conclusions\n",
    "- After tuning, all F1 scores improved significantly.\n",
    "- Gradient Boosting shows the largest F1 increase but still scored worse than Random Forest.\n",
    "- The ROC-AUC score for both Gradient Boosting and SVC improved slightly, but did not pass the tuned Random Forest ROC-AUC (very close).\n",
    "- Random Forest improved further in F1 Score, at the cost of a slight ROC-AUC decrease."
   ],
   "id": "297d0634f1bcc606"
  },
  {
   "metadata": {},
   "cell_type": "markdown",
   "source": "### Test Set Evaluation",
   "id": "b029190eb7a7e48d"
  },
  {
   "metadata": {
    "ExecuteTime": {
     "end_time": "2025-10-24T20:08:10.882610Z",
     "start_time": "2025-10-24T20:08:09.905077Z"
    }
   },
   "cell_type": "code",
   "source": [
    "# Evaluate all tuned models on the test set\n",
    "searches = {\n",
    "    'Random Forest': rf_search,\n",
    "    'Gradient Boosting': gb_search,\n",
    "    'SVC': svc_search\n",
    "}\n",
    "\n",
    "summary_rows = []\n",
    "\n",
    "for name, search in searches.items():\n",
    "    best_model = search.best_estimator_\n",
    "\n",
    "    # Predictions\n",
    "    y_pred = best_model.predict(X_test)\n",
    "    y_proba = best_model.predict_proba(X_test)[:, 1]\n",
    "\n",
    "    # Test metrics\n",
    "    f1_test = f1_score(y_test, y_pred)\n",
    "    roc_test = roc_auc_score(y_test, y_proba)\n",
    "\n",
    "    summary_rows.append({\n",
    "        'Model': name,\n",
    "        'Test F1': f1_test,\n",
    "        'Test ROC-AUC': roc_test\n",
    "    })\n",
    "\n",
    "# Display results sorted by Test F1\n",
    "results_all = pd.DataFrame(summary_rows).sort_values(by='Test F1', ascending=False)\n",
    "display(results_all)\n",
    "\n",
    "# Plot test set performance\n",
    "plt.figure(figsize=(8,5))\n",
    "results_melted = results_all.melt(id_vars='Model', var_name='Metric', value_name='Score')\n",
    "\n",
    "sns.barplot(data=results_melted, x='Model', y='Score', hue='Metric')\n",
    "plt.title('Test Set Performance of Tuned Models')\n",
    "plt.ylim(0.5, 1)\n",
    "plt.legend(bbox_to_anchor=(1.05, 1), loc='upper left')\n",
    "plt.show()"
   ],
   "id": "24e8b6236d16f533",
   "outputs": [
    {
     "data": {
      "text/plain": [
       "               Model   Test F1  Test ROC-AUC\n",
       "0      Random Forest  0.658683      0.901382\n",
       "2                SVC  0.649402      0.889054\n",
       "1  Gradient Boosting  0.644295      0.900103"
      ],
      "text/html": [
       "<div>\n",
       "<style scoped>\n",
       "    .dataframe tbody tr th:only-of-type {\n",
       "        vertical-align: middle;\n",
       "    }\n",
       "\n",
       "    .dataframe tbody tr th {\n",
       "        vertical-align: top;\n",
       "    }\n",
       "\n",
       "    .dataframe thead th {\n",
       "        text-align: right;\n",
       "    }\n",
       "</style>\n",
       "<table border=\"1\" class=\"dataframe\">\n",
       "  <thead>\n",
       "    <tr style=\"text-align: right;\">\n",
       "      <th></th>\n",
       "      <th>Model</th>\n",
       "      <th>Test F1</th>\n",
       "      <th>Test ROC-AUC</th>\n",
       "    </tr>\n",
       "  </thead>\n",
       "  <tbody>\n",
       "    <tr>\n",
       "      <th>0</th>\n",
       "      <td>Random Forest</td>\n",
       "      <td>0.658683</td>\n",
       "      <td>0.901382</td>\n",
       "    </tr>\n",
       "    <tr>\n",
       "      <th>2</th>\n",
       "      <td>SVC</td>\n",
       "      <td>0.649402</td>\n",
       "      <td>0.889054</td>\n",
       "    </tr>\n",
       "    <tr>\n",
       "      <th>1</th>\n",
       "      <td>Gradient Boosting</td>\n",
       "      <td>0.644295</td>\n",
       "      <td>0.900103</td>\n",
       "    </tr>\n",
       "  </tbody>\n",
       "</table>\n",
       "</div>"
      ]
     },
     "metadata": {},
     "output_type": "display_data"
    },
    {
     "data": {
      "text/plain": [
       "<Figure size 800x500 with 1 Axes>"
      ],
      "image/png": "[encoded data removed]"
     },
     "metadata": {},
     "output_type": "display_data"
    }
   ],
   "execution_count": 16
  },
  {
   "metadata": {},
   "cell_type": "markdown",
   "source": [
    "Very similar performance among all three tuned models on the test set, compared to the cross-validation results.\n",
    "This is a common effect: CV estimates are slightly conservative, while the test set can show small “re-ranking” due to natural sample variability."
   ],
   "id": "64c3838165851001"
  },
  {
   "metadata": {},
   "cell_type": "markdown",
   "source": [
    "### Model Justification\n",
    "\n",
    "**Final Model Selection: Random Forest**\n",
    "- Achieved the highest F1 score (0.648), effectively handling the moderate class imbalance.\n",
    "- Strong ROC-AUC (0.894) indicates very good class separation and reliable generalization.\n",
    "- Robust to noise and outliers, requires minimal preprocessing, and provides interpretable feature importances.\n",
    "- Consistently strong across metrics, offering a stable and practical solution for predicting wine quality."
   ],
   "id": "3cef93d081da9e09"
  },
  {
   "metadata": {
    "ExecuteTime": {
     "end_time": "2025-10-24T19:47:46.485713Z",
     "start_time": "2025-10-24T19:47:46.289345Z"
    }
   },
   "cell_type": "code",
   "source": [
    "# Save the tuned pipeline with preprocessing\n",
    "joblib.dump(rf_search.best_estimator_, \"random_forest_model.pkl\")"
   ],
   "id": "f8d60cbbdaf4fa7e",
   "outputs": [
    {
     "data": {
      "text/plain": [
       "['random_forest_model.pkl']"
      ]
     },
     "execution_count": 14,
     "metadata": {},
     "output_type": "execute_result"
    }
   ],
   "execution_count": 14
  }
 ],
 "metadata": {
  "kernelspec": {
   "display_name": "Python 3",
   "language": "python",
   "name": "python3"
  },
  "language_info": {
   "codemirror_mode": {
    "name": "ipython",
    "version": 2
   },
   "file_extension": ".py",
   "mimetype": "text/x-python",
   "name": "python",
   "nbconvert_exporter": "python",
   "pygments_lexer": "ipython2",
   "version": "2.7.6"
  }
 },
 "nbformat": 4,
 "nbformat_minor": 5
}
